{
 "cells": [
  {
   "cell_type": "code",
   "execution_count": 25,
   "metadata": {},
   "outputs": [],
   "source": [
    "exercicio_num = 3\n",
    "lista = []\n",
    "lista_valores = []\n",
    "\n",
    "for num in range(1, exercicio_num + 1):\n",
    "    exec(f'select_exercicio{num} = \"ex_{num}\"')\n",
    "    exec(f'qtd_series_exercicio_{num} = \"qtd_series_{num}\"')\n",
    "    exec(f'series_exercicio_1_{num} = \"series_{num}\"')\n",
    "    exec(f'reps_exercicio_1_{num} = \"reps_{num}\"')\n",
    "    exec(f'carga_exercicio_1_{num} = \"carga_{num}\"')\n",
    "    for i in range(3):\n",
    "        exec(f'valor_multiplo_{num} = \"multp_{num}\"')\n",
    "        lista_valores.append([f'valor_multiplo_{num}'])\n",
    "    lista.append([f'select_exercicio{num}',\n",
    "                  f'qtd_series_exercicio_{num}',\n",
    "                  f'series_exercicio_1_{num}',\n",
    "                  f'reps_exercicio_1_{num}',\n",
    "                  f'carga_exercicio_1_{num}',\n",
    "                  lista_valores])\n"
   ]
  },
  {
   "cell_type": "code",
   "execution_count": 26,
   "metadata": {},
   "outputs": [
    {
     "data": {
      "text/plain": [
       "[['select_exercicio1',\n",
       "  'qtd_series_exercicio_1',\n",
       "  'series_exercicio_1_1',\n",
       "  'reps_exercicio_1_1',\n",
       "  'carga_exercicio_1_1',\n",
       "  [['valor_multiplo_1'],\n",
       "   ['valor_multiplo_1'],\n",
       "   ['valor_multiplo_1'],\n",
       "   ['valor_multiplo_2'],\n",
       "   ['valor_multiplo_2'],\n",
       "   ['valor_multiplo_2'],\n",
       "   ['valor_multiplo_3'],\n",
       "   ['valor_multiplo_3'],\n",
       "   ['valor_multiplo_3']]],\n",
       " ['select_exercicio2',\n",
       "  'qtd_series_exercicio_2',\n",
       "  'series_exercicio_1_2',\n",
       "  'reps_exercicio_1_2',\n",
       "  'carga_exercicio_1_2',\n",
       "  [['valor_multiplo_1'],\n",
       "   ['valor_multiplo_1'],\n",
       "   ['valor_multiplo_1'],\n",
       "   ['valor_multiplo_2'],\n",
       "   ['valor_multiplo_2'],\n",
       "   ['valor_multiplo_2'],\n",
       "   ['valor_multiplo_3'],\n",
       "   ['valor_multiplo_3'],\n",
       "   ['valor_multiplo_3']]],\n",
       " ['select_exercicio3',\n",
       "  'qtd_series_exercicio_3',\n",
       "  'series_exercicio_1_3',\n",
       "  'reps_exercicio_1_3',\n",
       "  'carga_exercicio_1_3',\n",
       "  [['valor_multiplo_1'],\n",
       "   ['valor_multiplo_1'],\n",
       "   ['valor_multiplo_1'],\n",
       "   ['valor_multiplo_2'],\n",
       "   ['valor_multiplo_2'],\n",
       "   ['valor_multiplo_2'],\n",
       "   ['valor_multiplo_3'],\n",
       "   ['valor_multiplo_3'],\n",
       "   ['valor_multiplo_3']]]]"
      ]
     },
     "execution_count": 26,
     "metadata": {},
     "output_type": "execute_result"
    }
   ],
   "source": [
    "lista"
   ]
  },
  {
   "cell_type": "code",
   "execution_count": 24,
   "metadata": {},
   "outputs": [
    {
     "name": "stdout",
     "output_type": "stream",
     "text": [
      "ex_1\n",
      "qtd_series_1\n",
      "series_1\n",
      "reps_1\n",
      "carga_1\n",
      "ex_2\n",
      "qtd_series_2\n",
      "series_2\n",
      "reps_2\n",
      "carga_2\n",
      "ex_3\n",
      "qtd_series_3\n",
      "series_3\n",
      "reps_3\n",
      "carga_3\n"
     ]
    }
   ],
   "source": [
    "for num in range(0, exercicio_num):\n",
    "    size = len(lista[num])\n",
    "    for serie in range(0, size):\n",
    "        valor = globals().get(lista[num][serie], None)\n",
    "        print(valor)"
   ]
  },
  {
   "cell_type": "code",
   "execution_count": 5,
   "metadata": {},
   "outputs": [
    {
     "data": {
      "text/plain": [
       "'ex_1'"
      ]
     },
     "execution_count": 5,
     "metadata": {},
     "output_type": "execute_result"
    }
   ],
   "source": [
    "select_exercicio1"
   ]
  }
 ],
 "metadata": {
  "kernelspec": {
   "display_name": "Python 3",
   "language": "python",
   "name": "python3"
  },
  "language_info": {
   "codemirror_mode": {
    "name": "ipython",
    "version": 3
   },
   "file_extension": ".py",
   "mimetype": "text/x-python",
   "name": "python",
   "nbconvert_exporter": "python",
   "pygments_lexer": "ipython3",
   "version": "3.9.6"
  },
  "orig_nbformat": 4
 },
 "nbformat": 4,
 "nbformat_minor": 2
}
