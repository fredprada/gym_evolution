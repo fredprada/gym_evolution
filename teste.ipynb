{
 "cells": [
  {
   "cell_type": "code",
   "execution_count": 5,
   "metadata": {},
   "outputs": [],
   "source": [
    "import streamlit as st"
   ]
  },
  {
   "cell_type": "code",
   "execution_count": 4,
   "metadata": {},
   "outputs": [
    {
     "name": "stdout",
     "output_type": "stream",
     "text": [
      "metrica_1\n",
      "metrica_2\n",
      "metrica_3\n"
     ]
    }
   ],
   "source": [
    "qtd = 3\n",
    "\n",
    "for item in range(1, qtd + 1):\n",
    "    a = f'metrica_{item}'\n",
    "    series_exercicio_1_num_ = st.number_input('Núm Séries ex1: ', min_value = 0, max_value = 10)\n",
    "    reps_exercicio_1_num_ = st.number_input('Núm Reps ex5: ', min_value = 0, max_value = 50)\n",
    "    carga_exercicio_1_num_ = st.number_input('Carga (kg) ex1: ', min_value = 0, max_value = 10000)\n",
    "    print(a)"
   ]
  },
  {
   "cell_type": "code",
   "execution_count": null,
   "metadata": {},
   "outputs": [],
   "source": []
  },
  {
   "cell_type": "code",
   "execution_count": null,
   "metadata": {},
   "outputs": [],
   "source": []
  },
  {
   "cell_type": "code",
   "execution_count": null,
   "metadata": {},
   "outputs": [],
   "source": []
  }
 ],
 "metadata": {
  "kernelspec": {
   "display_name": "Python 3",
   "language": "python",
   "name": "python3"
  },
  "language_info": {
   "codemirror_mode": {
    "name": "ipython",
    "version": 3
   },
   "file_extension": ".py",
   "mimetype": "text/x-python",
   "name": "python",
   "nbconvert_exporter": "python",
   "pygments_lexer": "ipython3",
   "version": "3.9.6"
  },
  "orig_nbformat": 4
 },
 "nbformat": 4,
 "nbformat_minor": 2
}
